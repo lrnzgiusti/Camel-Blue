{
 "cells": [
  {
   "cell_type": "code",
   "execution_count": 1,
   "metadata": {},
   "outputs": [],
   "source": [
    "import pandas as pd"
   ]
  },
  {
   "cell_type": "code",
   "execution_count": 2,
   "metadata": {},
   "outputs": [],
   "source": [
    "import numpy as np"
   ]
  },
  {
   "cell_type": "code",
   "execution_count": 3,
   "metadata": {},
   "outputs": [],
   "source": [
    "columns = ['Age', 'Weight','Height', 'Sex', 'Ethnicity', \n",
    "           'Region', 'Smoker', 'ph1', 'ph2', 'ph3',\n",
    "           'fh1', 'fh2', 'fh3', 'dd1', 'dd2', 'dd3',\n",
    "           'Chemotherapy', 'Radiotherapy', 'Surgery', 'Movement', 'Speech', 'Vision', 'Crisis'\n",
    "          ]"
   ]
  },
  {
   "cell_type": "code",
   "execution_count": 4,
   "metadata": {},
   "outputs": [],
   "source": [
    "df = pd.DataFrame(columns = columns)"
   ]
  },
  {
   "cell_type": "code",
   "execution_count": 5,
   "metadata": {},
   "outputs": [
    {
     "data": {
      "text/html": [
       "<div>\n",
       "<style scoped>\n",
       "    .dataframe tbody tr th:only-of-type {\n",
       "        vertical-align: middle;\n",
       "    }\n",
       "\n",
       "    .dataframe tbody tr th {\n",
       "        vertical-align: top;\n",
       "    }\n",
       "\n",
       "    .dataframe thead th {\n",
       "        text-align: right;\n",
       "    }\n",
       "</style>\n",
       "<table border=\"1\" class=\"dataframe\">\n",
       "  <thead>\n",
       "    <tr style=\"text-align: right;\">\n",
       "      <th></th>\n",
       "      <th>Age</th>\n",
       "      <th>Weight</th>\n",
       "      <th>Height</th>\n",
       "      <th>Sex</th>\n",
       "      <th>Ethnicity</th>\n",
       "      <th>Region</th>\n",
       "      <th>Smoker</th>\n",
       "      <th>ph1</th>\n",
       "      <th>ph2</th>\n",
       "      <th>ph3</th>\n",
       "      <th>...</th>\n",
       "      <th>dd1</th>\n",
       "      <th>dd2</th>\n",
       "      <th>dd3</th>\n",
       "      <th>Chemotherapy</th>\n",
       "      <th>Radiotherapy</th>\n",
       "      <th>Surgery</th>\n",
       "      <th>Movement</th>\n",
       "      <th>Speech</th>\n",
       "      <th>Vision</th>\n",
       "      <th>Crisis</th>\n",
       "    </tr>\n",
       "  </thead>\n",
       "  <tbody>\n",
       "  </tbody>\n",
       "</table>\n",
       "<p>0 rows × 23 columns</p>\n",
       "</div>"
      ],
      "text/plain": [
       "Empty DataFrame\n",
       "Columns: [Age, Weight, Height, Sex, Ethnicity, Region, Smoker, ph1, ph2, ph3, fh1, fh2, fh3, dd1, dd2, dd3, Chemotherapy, Radiotherapy, Surgery, Movement, Speech, Vision, Crisis]\n",
       "Index: []\n",
       "\n",
       "[0 rows x 23 columns]"
      ]
     },
     "execution_count": 5,
     "metadata": {},
     "output_type": "execute_result"
    }
   ],
   "source": [
    "df"
   ]
  },
  {
   "cell_type": "code",
   "execution_count": 12,
   "metadata": {},
   "outputs": [],
   "source": [
    "df['Age'] = np.random.randint(50, 95, size=(1031,))\n",
    "df['Weight'] = np.random.randint(50, 130, size=(1031,)) #in kgs\n",
    "df['Height'] = np.random.randint(150, 200, size=(1031,)) #in cms\n",
    "df['Sex'] = np.random.randint(0, 2, size=(1031))\n",
    "df['Ethnicity'] = np.random.randint(0, 2, size=(1031))\n",
    "df['Region'] = np.random.randint(0, 2, size=(1031))\n",
    "\n",
    "df['ph1'] = np.random.randint(0, 2, size=(1031))\n",
    "df['ph2'] = np.random.randint(0, 2, size=(1031))\n",
    "df['ph3'] = np.random.randint(0, 2, size=(1031))\n",
    "\n",
    "df['fh1'] = np.random.randint(0, 2, size=(1031))\n",
    "df['fh2'] = np.random.randint(0, 2, size=(1031))\n",
    "df['fh3'] = np.random.randint(0, 2, size=(1031))\n",
    "\n",
    "df['dd1'] = np.random.randint(0, 2, size=(1031))\n",
    "df['dd2'] = np.random.randint(0, 2, size=(1031))\n",
    "df['dd3'] = np.random.randint(0, 2, size=(1031))\n",
    "\n",
    "\n",
    "df['Chemotherapy'] = np.random.randint(0, 2, size=(1031))\n",
    "df['Radiotherapy'] = np.random.randint(0, 2, size=(1031))\n",
    "df['Surgery'] = np.random.randint(0, 2, size=(1031))\n",
    "df['Movement'] = np.random.randint(0, 2, size=(1031))\n",
    "df['Speech'] = np.random.randint(0, 2, size=(1031))\n",
    "df['Vision'] = np.random.randint(0, 2, size=(1031))\n",
    "df['Crisis'] = np.random.randint(0, 2, size=(1031))"
   ]
  },
  {
   "cell_type": "code",
   "execution_count": 14,
   "metadata": {},
   "outputs": [
    {
     "data": {
      "text/plain": [
       "0        True\n",
       "1       False\n",
       "2        True\n",
       "3       False\n",
       "4        True\n",
       "        ...  \n",
       "1026    False\n",
       "1027     True\n",
       "1028    False\n",
       "1029     True\n",
       "1030    False\n",
       "Name: ph1, Length: 1031, dtype: bool"
      ]
     },
     "execution_count": 14,
     "metadata": {},
     "output_type": "execute_result"
    }
   ],
   "source": []
  },
  {
   "cell_type": "code",
   "execution_count": null,
   "metadata": {},
   "outputs": [],
   "source": []
  }
 ],
 "metadata": {
  "kernelspec": {
   "display_name": "Python 3",
   "language": "python",
   "name": "python3"
  },
  "language_info": {
   "codemirror_mode": {
    "name": "ipython",
    "version": 3
   },
   "file_extension": ".py",
   "mimetype": "text/x-python",
   "name": "python",
   "nbconvert_exporter": "python",
   "pygments_lexer": "ipython3",
   "version": "3.7.3"
  }
 },
 "nbformat": 4,
 "nbformat_minor": 2
}
